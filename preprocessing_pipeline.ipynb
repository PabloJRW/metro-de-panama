{
 "cells": [
  {
   "cell_type": "code",
   "execution_count": 1,
   "id": "7217ebb1-047c-49df-9630-a0b0dc895e40",
   "metadata": {},
   "outputs": [],
   "source": [
    "import pandas as pd"
   ]
  },
  {
   "cell_type": "code",
   "execution_count": 2,
   "id": "fd261778-460e-470a-9a42-1e18289f48a7",
   "metadata": {},
   "outputs": [],
   "source": [
    "def copy_df(df):\n",
    "    return df.copy()"
   ]
  },
  {
   "cell_type": "code",
   "execution_count": 3,
   "id": "e0a93b81-6c55-4e86-81e5-3fdc0b6d051c",
   "metadata": {},
   "outputs": [
    {
     "ename": "NameError",
     "evalue": "name 'df' is not defined",
     "output_type": "error",
     "traceback": [
      "\u001b[0;31m---------------------------------------------------------------------------\u001b[0m",
      "\u001b[0;31mNameError\u001b[0m                                 Traceback (most recent call last)",
      "\u001b[0;32m<ipython-input-3-cd3dd1c032cb>\u001b[0m in \u001b[0;36m<module>\u001b[0;34m\u001b[0m\n\u001b[0;32m----> 1\u001b[0;31m preprocessed_data = (df.\n\u001b[0m\u001b[1;32m      2\u001b[0m                        \u001b[0mpipe\u001b[0m\u001b[0;34m(\u001b[0m\u001b[0mcopy_df\u001b[0m\u001b[0;34m)\u001b[0m\u001b[0;34m.\u001b[0m\u001b[0;34m\u001b[0m\u001b[0;34m\u001b[0m\u001b[0m\n\u001b[1;32m      3\u001b[0m                        \u001b[0mpipe\u001b[0m\u001b[0;34m(\u001b[0m\u001b[0msplit_lineas\u001b[0m\u001b[0;34m)\u001b[0m\u001b[0;34m.\u001b[0m\u001b[0;34m\u001b[0m\u001b[0;34m\u001b[0m\u001b[0m\n\u001b[1;32m      4\u001b[0m                        \u001b[0mpipe\u001b[0m\u001b[0;34m(\u001b[0m\u001b[0mdf_joiner\u001b[0m\u001b[0;34m,\u001b[0m \u001b[0mAnio\u001b[0m\u001b[0;34m)\u001b[0m\u001b[0;34m.\u001b[0m\u001b[0;34m\u001b[0m\u001b[0;34m\u001b[0m\u001b[0m\n\u001b[1;32m      5\u001b[0m                        pipe(rename_order_columns))\n",
      "\u001b[0;31mNameError\u001b[0m: name 'df' is not defined"
     ]
    }
   ],
   "source": [
    "preprocessed_data = (df.\n",
    "                       pipe(copy_df).\n",
    "                       pipe(split_lineas).\n",
    "                       pipe(df_joiner, Anio).\n",
    "                       pipe(rename_order_columns))"
   ]
  }
 ],
 "metadata": {
  "kernelspec": {
   "display_name": "Python 3",
   "language": "python",
   "name": "python3"
  },
  "language_info": {
   "codemirror_mode": {
    "name": "ipython",
    "version": 3
   },
   "file_extension": ".py",
   "mimetype": "text/x-python",
   "name": "python",
   "nbconvert_exporter": "python",
   "pygments_lexer": "ipython3",
   "version": "3.8.8"
  }
 },
 "nbformat": 4,
 "nbformat_minor": 5
}
